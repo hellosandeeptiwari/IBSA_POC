{
 "cells": [
  {
   "cell_type": "markdown",
   "id": "35cbad2e",
   "metadata": {},
   "source": [
    "# IBSA Pharmaceutical Complete EDA - Production Version\n",
    "\n",
    "## 🎯 **Objective**: Comprehensive analysis of all IBSA reporting tables with complete data pipeline\n",
    "\n",
    "This notebook provides a complete, production-ready EDA solution for IBSA pharmaceutical data including:\n",
    "- **All Reporting Tables**: Complete analysis of BI reporting infrastructure\n",
    "- **Data Relationships**: Primary/Foreign key analysis and table joins\n",
    "- **HCP Universe**: Healthcare provider analysis using Reporting_Live_HCP_Universe\n",
    "- **Sales Performance**: Territory, call activity, and prescription analytics\n",
    "- **Prescriber Intelligence**: Complete prescriber profiling and payment analysis\n",
    "- **Feature Engineering**: ML-ready dataset preparation\n",
    "- **Scalable Processing**: Spark-based architecture for large datasets\n",
    "\n",
    "---\n",
    "\n",
    "## 📋 **Database Tables Covered**\n",
    "\n",
    "### 📞 **Call & Activity Analysis**\n",
    "- `Reporting_BI_CallActivity` - Call Activity Overview\n",
    "- `Reporting_BI_CallAttainment_Summary_TerritoryLevel` - Territory Call Attainment\n",
    "- `Reporting_Bi_Territory_CallSummary` - Territory Calls Summary\n",
    "- `Reporting_BI_CallAttainment_Summary_Tier` - Call Attainment by Tiers\n",
    "\n",
    "### 💊 **Prescription & Sample Analysis**\n",
    "- `Reporting_BI_Trx_SampleSummary` - Samples/Trx Summary\n",
    "- `Reporting_BI_Nrx_SampleSummary` - Samples/Nrx Summary\n",
    "- `Reporting_BI_Sample_LL_DTP` - Territory Samples and L&L Summary\n",
    "\n",
    "### 👨‍⚕️ **Healthcare Provider Intelligence**\n",
    "- `Reporting_Live_HCP_Universe` - Complete HCP Universe (Live)\n",
    "- `Reporting_BI_PrescriberProfile` - Prescriber Profiles\n",
    "- `Reporting_BI_PrescriberOverview` - Prescriber Overview\n",
    "- `Reporting_BI_PrescriberPaymentPlanSummary` - Prescriber Payment Plans\n",
    "\n",
    "### 🏆 **Performance & Growth Analytics**\n",
    "- `Reporting_BI_TerritoryPerformanceSummary` - Territory Performance Summary\n",
    "- `Reporting_BI_TerritoryPerformanceOverview` - Territory Performance Overview\n",
    "- `Reporting_BI_NGD` - New/Growth/Decliner Analysis\n",
    "\n",
    "---"
   ]
  }
 ],
 "metadata": {
  "language_info": {
   "name": "python"
  }
 },
 "nbformat": 4,
 "nbformat_minor": 5
}
